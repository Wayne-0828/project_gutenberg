{
 "cells": [
  {
   "cell_type": "code",
   "execution_count": 1,
   "id": "01a8c6cc",
   "metadata": {},
   "outputs": [],
   "source": [
    "#https://www.gutenberg.org/cache/epub/25328/pg25328.txt\n",
    "\n",
    "import requests as req\n",
    "import os, json\n",
    "from bs4 import BeautifulSoup as bs\n",
    "from pprint import pprint\n",
    "import re\n",
    "from random import randint\n",
    "from time import sleep"
   ]
  },
  {
   "cell_type": "code",
   "execution_count": null,
   "id": "856e143f",
   "metadata": {},
   "outputs": [],
   "source": [
    "url = 'https://www.gutenberg.org/cache/epub/25328/pg25328.txt'\n",
    "\n",
    "res = req.get(url)\n",
    "\n",
    "regex01 = r'[\\u4e00-\\u9fff\\s，。！？：「」、（）《》…—]+'\n",
    "word_list = re.findall(\n",
    "    regex01,\n",
    "    res.text\n",
    ")\n",
    "\n",
    "chinese = \"\".join(word_list)\n",
    "print(chinese)"
   ]
  },
  {
   "cell_type": "code",
   "execution_count": 7,
   "id": "49769cc6",
   "metadata": {},
   "outputs": [],
   "source": [
    "file_name = \"豆棚閒話\"\n",
    "\n",
    "with open(f'./{file_name}.txt', 'w', encoding='utf-8') as f:\n",
    "    f.write(chinese)"
   ]
  },
  {
   "cell_type": "code",
   "execution_count": 2,
   "id": "3106f074",
   "metadata": {},
   "outputs": [],
   "source": [
    "url1 = 'https://www.gutenberg.org/browse/languages/zh'\n",
    "\n",
    "res1 = req.get(url1)\n",
    "\n",
    "soup1 = bs(res1.text,'lxml')\n",
    "\n"
   ]
  },
  {
   "cell_type": "code",
   "execution_count": 8,
   "id": "8685ee2f",
   "metadata": {},
   "outputs": [
    {
     "ename": "KeyboardInterrupt",
     "evalue": "",
     "output_type": "error",
     "traceback": [
      "\u001b[31m---------------------------------------------------------------------------\u001b[39m",
      "\u001b[31mKeyboardInterrupt\u001b[39m                         Traceback (most recent call last)",
      "\u001b[36mCell\u001b[39m\u001b[36m \u001b[39m\u001b[32mIn[8]\u001b[39m\u001b[32m, line 28\u001b[39m\n\u001b[32m     25\u001b[39m     \u001b[38;5;28;01mwith\u001b[39;00m \u001b[38;5;28mopen\u001b[39m(\u001b[33mf\u001b[39m\u001b[33m'\u001b[39m\u001b[33m./project_gutenberg/\u001b[39m\u001b[38;5;132;01m{\u001b[39;00mfile_name2\u001b[38;5;132;01m}\u001b[39;00m\u001b[33m.txt\u001b[39m\u001b[33m'\u001b[39m, \u001b[33m'\u001b[39m\u001b[33mw\u001b[39m\u001b[33m'\u001b[39m, encoding=\u001b[33m'\u001b[39m\u001b[33mutf-8\u001b[39m\u001b[33m'\u001b[39m) \u001b[38;5;28;01mas\u001b[39;00m f:\n\u001b[32m     26\u001b[39m         f.write(chinese2)\n\u001b[32m---> \u001b[39m\u001b[32m28\u001b[39m     \u001b[43msleep\u001b[49m\u001b[43m(\u001b[49m\u001b[43mrandint\u001b[49m\u001b[43m(\u001b[49m\u001b[32;43m1\u001b[39;49m\u001b[43m,\u001b[49m\u001b[32;43m3\u001b[39;49m\u001b[43m)\u001b[49m\u001b[43m)\u001b[49m\n\u001b[32m     29\u001b[39m     cnt += \u001b[32m1\u001b[39m\n\u001b[32m     30\u001b[39m \u001b[38;5;28;01mif\u001b[39;00m cnt > \u001b[32m300\u001b[39m:\n",
      "\u001b[31mKeyboardInterrupt\u001b[39m: "
     ]
    }
   ],
   "source": [
    "url1 = 'https://www.gutenberg.org/browse/languages/zh'\n",
    "\n",
    "res1 = req.get(url1)\n",
    "\n",
    "soup1 = bs(res1.text,'lxml')\n",
    "cnt = 0\n",
    "regex01 = r'[\\u4e00-\\u9fff\\s，。！？：「」、（）《》…—]+'\n",
    "regex02 = r'\\d+'\n",
    "regex03 = r'^[\\u4e00-\\u9fff\\s，。！？：「」、（）《》…—]+$'\n",
    "for a in soup1.select('li.pgdbetext>a[href]'):\n",
    "    \n",
    "    book_no = re.search(regex02,a['href'])[0]\n",
    "    if re.match(regex03, a.get_text()):\n",
    "\n",
    "        url2 = f'https://www.gutenberg.org/cache/epub/{book_no}/pg{book_no}.txt'\n",
    "        res2 = req.get(url2)\n",
    "        word_list2 = re.findall(\n",
    "        regex01,\n",
    "        res2.text\n",
    "        )\n",
    "        chinese2 = \"\".join(word_list2)\n",
    "        # print(type(chinese2))\n",
    "        file_name2 = re.sub(r'[\\\\/:*?\"<>|\\r\\n]+',\"\",a.get_text())\n",
    "\n",
    "        with open(f'./project_gutenberg/{file_name2}.txt', 'w', encoding='utf-8') as f:\n",
    "            f.write(chinese2)\n",
    "        \n",
    "        sleep(randint(1,3))\n",
    "        cnt += 1\n",
    "    if cnt > 300:\n",
    "        break"
   ]
  }
 ],
 "metadata": {
  "kernelspec": {
   "display_name": "Python 3",
   "language": "python",
   "name": "python3"
  },
  "language_info": {
   "codemirror_mode": {
    "name": "ipython",
    "version": 3
   },
   "file_extension": ".py",
   "mimetype": "text/x-python",
   "name": "python",
   "nbconvert_exporter": "python",
   "pygments_lexer": "ipython3",
   "version": "3.13.3"
  }
 },
 "nbformat": 4,
 "nbformat_minor": 5
}
