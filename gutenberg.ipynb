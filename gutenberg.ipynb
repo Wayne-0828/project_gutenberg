{
 "cells": [
  {
   "cell_type": "code",
   "execution_count": null,
   "id": "01a8c6cc",
   "metadata": {},
   "outputs": [],
   "source": [
    "import requests as req\n",
    "import os, json\n",
    "from bs4 import BeautifulSoup as bs\n",
    "from pprint import pprint\n",
    "import re\n",
    "from random import randint\n",
    "from time import sleep"
   ]
  },
  {
   "cell_type": "code",
   "execution_count": 2,
   "id": "3106f074",
   "metadata": {},
   "outputs": [],
   "source": [
    "url1 = 'https://www.gutenberg.org/browse/languages/zh'\n",
    "\n",
    "res1 = req.get(url1)\n",
    "\n",
    "soup1 = bs(res1.text,'lxml')\n",
    "\n"
   ]
  },
  {
   "cell_type": "code",
   "execution_count": null,
   "id": "8685ee2f",
   "metadata": {},
   "outputs": [],
   "source": [
    "cnt = 0\n",
    "regex01 = r'[\\u4e00-\\u9fff\\s，。！？：「」、（）《》…—]+'\n",
    "regex02 = r'\\d+'\n",
    "regex03 = r'^[\\u4e00-\\u9fff\\s，。！？：「」、（）《》…—]+$'\n",
    "for a in soup1.select('li.pgdbetext>a[href]'):\n",
    "    \n",
    "    book_no = re.search(regex02,a['href'])[0]\n",
    "    if re.match(regex03, a.get_text()):\n",
    "\n",
    "        url2 = f'https://www.gutenberg.org/cache/epub/{book_no}/pg{book_no}.txt'\n",
    "        res2 = req.get(url2)\n",
    "        word_list2 = re.findall(\n",
    "        regex01,\n",
    "        res2.text\n",
    "        )\n",
    "        chinese2 = \"\".join(word_list2)\n",
    "        # print(type(chinese2))\n",
    "        file_name2 = re.sub(r'[\\\\/:*?\"<>|\\r\\n]+',\"\",a.get_text())\n",
    "\n",
    "        with open(f'./project_gutenberg/{file_name2}.txt', 'w', encoding='utf-8') as f:\n",
    "            f.write(chinese2)\n",
    "        \n",
    "        sleep(randint(1,3))\n",
    "        cnt += 1\n",
    "    if cnt > 300:\n",
    "        break"
   ]
  }
 ],
 "metadata": {
  "kernelspec": {
   "display_name": "Python 3",
   "language": "python",
   "name": "python3"
  },
  "language_info": {
   "codemirror_mode": {
    "name": "ipython",
    "version": 3
   },
   "file_extension": ".py",
   "mimetype": "text/x-python",
   "name": "python",
   "nbconvert_exporter": "python",
   "pygments_lexer": "ipython3",
   "version": "3.13.3"
  }
 },
 "nbformat": 4,
 "nbformat_minor": 5
}
